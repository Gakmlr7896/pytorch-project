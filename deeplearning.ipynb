{
  "nbformat": 4,
  "nbformat_minor": 0,
  "metadata": {
    "colab": {
      "provenance": [],
      "authorship_tag": "ABX9TyOGBO25MytwVVzjlCMDilB9",
      "include_colab_link": true
    },
    "kernelspec": {
      "name": "python3",
      "display_name": "Python 3"
    },
    "language_info": {
      "name": "python"
    }
  },
  "cells": [
    {
      "cell_type": "markdown",
      "metadata": {
        "id": "view-in-github",
        "colab_type": "text"
      },
      "source": [
        "<a href=\"https://colab.research.google.com/github/Gakmlr7896/pytorch-project/blob/main/deeplearning.ipynb\" target=\"_parent\"><img src=\"https://colab.research.google.com/assets/colab-badge.svg\" alt=\"Open In Colab\"/></a>"
      ]
    },
    {
      "cell_type": "code",
      "source": [
        "import torch\n",
        "torch.__version__"
      ],
      "metadata": {
        "colab": {
          "base_uri": "https://localhost:8080/",
          "height": 35
        },
        "id": "_lNkHTE13Nhe",
        "outputId": "68ca14fa-3f35-4787-c754-ffe5bb85cdc3"
      },
      "execution_count": 1,
      "outputs": [
        {
          "output_type": "execute_result",
          "data": {
            "text/plain": [
              "'2.6.0+cu124'"
            ],
            "application/vnd.google.colaboratory.intrinsic+json": {
              "type": "string"
            }
          },
          "metadata": {},
          "execution_count": 1
        }
      ]
    },
    {
      "cell_type": "markdown",
      "source": [
        "##Scalar - The scalar is a single number and in tensor-speak it's a zero dimension tensor."
      ],
      "metadata": {
        "id": "h7GvOlFuO9zc"
      }
    },
    {
      "cell_type": "code",
      "source": [
        "#Scalar\n",
        "scalar = torch.tensor(7)\n",
        "scalar"
      ],
      "metadata": {
        "colab": {
          "base_uri": "https://localhost:8080/"
        },
        "id": "CjXCIU0wPR5k",
        "outputId": "d0e772a3-7368-4c1c-dc77-01a09e6f82a9"
      },
      "execution_count": 2,
      "outputs": [
        {
          "output_type": "execute_result",
          "data": {
            "text/plain": [
              "tensor(7)"
            ]
          },
          "metadata": {},
          "execution_count": 2
        }
      ]
    },
    {
      "cell_type": "code",
      "source": [
        "#We can check the dimension of a tensor by using ndim attribute.\n",
        "scalar.ndim"
      ],
      "metadata": {
        "colab": {
          "base_uri": "https://localhost:8080/"
        },
        "id": "g9eHPOTBPsn8",
        "outputId": "dcb3beb1-99ac-47bc-d865-23ac51f0f766"
      },
      "execution_count": 3,
      "outputs": [
        {
          "output_type": "execute_result",
          "data": {
            "text/plain": [
              "0"
            ]
          },
          "metadata": {},
          "execution_count": 3
        }
      ]
    },
    {
      "cell_type": "code",
      "source": [
        "#To retrieve the number from the tensor and turn it from torch.tensor to a python integer we can use .item()!\n",
        "scalar.item()"
      ],
      "metadata": {
        "colab": {
          "base_uri": "https://localhost:8080/"
        },
        "id": "omsdLfU_Rh7v",
        "outputId": "6a6d7750-a5a4-4901-d0c5-3ef4f6f7c2c7"
      },
      "execution_count": 4,
      "outputs": [
        {
          "output_type": "execute_result",
          "data": {
            "text/plain": [
              "7"
            ]
          },
          "metadata": {},
          "execution_count": 4
        }
      ]
    },
    {
      "cell_type": "markdown",
      "source": [
        "##Vectors - a vector is a single dimension tensor that can contain many numbers.\n",
        "####As you can have a vector [1, 2] to describe 2 things you can have a vector [1, 2, 3] to describe 3 things as well!"
      ],
      "metadata": {
        "id": "XTQp6ZPhSVdl"
      }
    },
    {
      "cell_type": "code",
      "source": [
        "#Vector\n",
        "vector = torch.tensor([3, 4])\n",
        "vector"
      ],
      "metadata": {
        "colab": {
          "base_uri": "https://localhost:8080/"
        },
        "id": "xv55m1qYSlbM",
        "outputId": "306f2f9c-4206-4566-8edd-1ee9c1a40a24"
      },
      "execution_count": 5,
      "outputs": [
        {
          "output_type": "execute_result",
          "data": {
            "text/plain": [
              "tensor([3, 4])"
            ]
          },
          "metadata": {},
          "execution_count": 5
        }
      ]
    },
    {
      "cell_type": "code",
      "source": [
        "#Check the dimension number of the vector.\n",
        "vector.ndim"
      ],
      "metadata": {
        "colab": {
          "base_uri": "https://localhost:8080/"
        },
        "id": "2zFXu2VQS4F1",
        "outputId": "cb8812eb-46f6-449c-b5f3-d5e705edd13e"
      },
      "execution_count": 6,
      "outputs": [
        {
          "output_type": "execute_result",
          "data": {
            "text/plain": [
              "1"
            ]
          },
          "metadata": {},
          "execution_count": 6
        }
      ]
    },
    {
      "cell_type": "code",
      "source": [
        "#Another important concept for tensors is their shape attribute - The shape tells you how the elements inside them are arranged.\n",
        "vector.shape"
      ],
      "metadata": {
        "colab": {
          "base_uri": "https://localhost:8080/"
        },
        "id": "ElhTGvkvUBz1",
        "outputId": "da7b6d51-83e2-43de-ea68-083cbef91524"
      },
      "execution_count": 7,
      "outputs": [
        {
          "output_type": "execute_result",
          "data": {
            "text/plain": [
              "torch.Size([2])"
            ]
          },
          "metadata": {},
          "execution_count": 7
        }
      ]
    },
    {
      "cell_type": "markdown",
      "source": [
        "##Matrices - a metrix is a kinda more like a group of 2 or more vectors, it's also so flexable as same as vectors!"
      ],
      "metadata": {
        "id": "TzUmsNBqVGPd"
      }
    },
    {
      "cell_type": "code",
      "source": [
        "#Matrix\n",
        "Matrix = torch.tensor([[4, 5],\n",
        "                       [2, 9],\n",
        "                       [3, 1]])\n",
        "Matrix"
      ],
      "metadata": {
        "colab": {
          "base_uri": "https://localhost:8080/"
        },
        "id": "0nbYM5X0VZF_",
        "outputId": "d4e399b1-affe-48d4-c6d9-439269f9029d"
      },
      "execution_count": 8,
      "outputs": [
        {
          "output_type": "execute_result",
          "data": {
            "text/plain": [
              "tensor([[4, 5],\n",
              "        [2, 9],\n",
              "        [3, 1]])"
            ]
          },
          "metadata": {},
          "execution_count": 8
        }
      ]
    },
    {
      "cell_type": "code",
      "source": [
        "#Matrices are a 2 dimdension tensors!\n",
        "Matrix.ndim"
      ],
      "metadata": {
        "colab": {
          "base_uri": "https://localhost:8080/"
        },
        "id": "c10YC5E3VjKd",
        "outputId": "b52ec107-bb22-4855-e47a-51eab945f0fb"
      },
      "execution_count": 9,
      "outputs": [
        {
          "output_type": "execute_result",
          "data": {
            "text/plain": [
              "2"
            ]
          },
          "metadata": {},
          "execution_count": 9
        }
      ]
    },
    {
      "cell_type": "code",
      "source": [
        "#The shape of the matrix will be 3, 2 because 3 elements deep and 2 elements wide.\n",
        "Matrix.shape"
      ],
      "metadata": {
        "colab": {
          "base_uri": "https://localhost:8080/"
        },
        "id": "eDjIQ5ytV1in",
        "outputId": "c5ed3464-73d8-415f-e2be-d6b700ba47d3"
      },
      "execution_count": 10,
      "outputs": [
        {
          "output_type": "execute_result",
          "data": {
            "text/plain": [
              "torch.Size([3, 2])"
            ]
          },
          "metadata": {},
          "execution_count": 10
        }
      ]
    },
    {
      "cell_type": "markdown",
      "source": [
        "##Tensors - A tensor can contain more numbers & it's so flexable as well!"
      ],
      "metadata": {
        "id": "4iUgQ1Hacz43"
      }
    },
    {
      "cell_type": "code",
      "source": [
        "Tensor = torch.tensor([[[1, 2, 3],\n",
        "                        [3, 4 ,6],\n",
        "                        [2, 5, 8]]])\n",
        "Tensor"
      ],
      "metadata": {
        "colab": {
          "base_uri": "https://localhost:8080/"
        },
        "id": "1NeYYjbldDh_",
        "outputId": "13dff5b5-ea1b-48e3-bbd6-a4419b74f29a"
      },
      "execution_count": 12,
      "outputs": [
        {
          "output_type": "execute_result",
          "data": {
            "text/plain": [
              "tensor([[[1, 2, 3],\n",
              "         [3, 4, 6],\n",
              "         [2, 5, 8]]])"
            ]
          },
          "metadata": {},
          "execution_count": 12
        }
      ]
    },
    {
      "cell_type": "code",
      "source": [
        "Tensor.ndim"
      ],
      "metadata": {
        "colab": {
          "base_uri": "https://localhost:8080/"
        },
        "id": "RXit6nRudaE3",
        "outputId": "f6c1d9a3-3c96-4db8-f6e8-c57bd198ab66"
      },
      "execution_count": 13,
      "outputs": [
        {
          "output_type": "execute_result",
          "data": {
            "text/plain": [
              "3"
            ]
          },
          "metadata": {},
          "execution_count": 13
        }
      ]
    },
    {
      "cell_type": "code",
      "source": [
        "Tensor.shape"
      ],
      "metadata": {
        "colab": {
          "base_uri": "https://localhost:8080/"
        },
        "id": "oHBUqz0PdiWo",
        "outputId": "61a20e96-4da0-4c1b-d002-505d50a71064"
      },
      "execution_count": 14,
      "outputs": [
        {
          "output_type": "execute_result",
          "data": {
            "text/plain": [
              "torch.Size([1, 3, 3])"
            ]
          },
          "metadata": {},
          "execution_count": 14
        }
      ]
    },
    {
      "cell_type": "markdown",
      "source": [
        "##Creating a ranadom tesnor."
      ],
      "metadata": {
        "id": "Bd5s_86EfZeB"
      }
    },
    {
      "cell_type": "code",
      "source": [
        "#We can creat random tesnor by using torch.rand\n",
        "random_tensor = torch.rand(size=(255, 255, 5))\n",
        "random_tensor, random_tensor.dtype, random_tensor.shape\n",
        "#.dtype shows as the data type of a tensor."
      ],
      "metadata": {
        "colab": {
          "base_uri": "https://localhost:8080/"
        },
        "id": "Zqwe8YucfcUX",
        "outputId": "10606f96-2f61-4ddf-a065-41a73b53ec24"
      },
      "execution_count": 42,
      "outputs": [
        {
          "output_type": "execute_result",
          "data": {
            "text/plain": [
              "(tensor([[[0.3668, 0.3848, 0.6309, 0.3753, 0.1271],\n",
              "          [0.6564, 0.4131, 0.9713, 0.1273, 0.2133],\n",
              "          [0.4410, 0.0452, 0.1837, 0.9234, 0.3498],\n",
              "          ...,\n",
              "          [0.8419, 0.0607, 0.4274, 0.3299, 0.5311],\n",
              "          [0.2826, 0.3533, 0.9703, 0.1015, 0.6671],\n",
              "          [0.3879, 0.3559, 0.8601, 0.4223, 0.4616]],\n",
              " \n",
              "         [[0.1013, 0.4742, 0.5622, 0.1870, 0.3294],\n",
              "          [0.1953, 0.4062, 0.0211, 0.1216, 0.6086],\n",
              "          [0.8508, 0.0474, 0.8986, 0.1694, 0.5502],\n",
              "          ...,\n",
              "          [0.0580, 0.0975, 0.2521, 0.0907, 0.3289],\n",
              "          [0.2633, 0.4190, 0.4441, 0.3836, 0.0644],\n",
              "          [0.8327, 0.4347, 0.6314, 0.0230, 0.4045]],\n",
              " \n",
              "         [[0.2169, 0.8973, 0.1497, 0.9153, 0.2380],\n",
              "          [0.4436, 0.6181, 0.6638, 0.3413, 0.5277],\n",
              "          [0.2846, 0.1461, 0.8558, 0.6824, 0.0280],\n",
              "          ...,\n",
              "          [0.7295, 0.0256, 0.4631, 0.7829, 0.2045],\n",
              "          [0.3588, 0.5551, 0.7767, 0.3486, 0.9478],\n",
              "          [0.4718, 0.2072, 0.0904, 0.4930, 0.6360]],\n",
              " \n",
              "         ...,\n",
              " \n",
              "         [[0.8832, 0.0720, 0.0935, 0.9292, 0.6415],\n",
              "          [0.6939, 0.9844, 0.9857, 0.4562, 0.9069],\n",
              "          [0.9491, 0.7762, 0.7004, 0.6561, 0.4976],\n",
              "          ...,\n",
              "          [0.2433, 0.6268, 0.3568, 0.7369, 0.6501],\n",
              "          [0.7234, 0.0083, 0.4873, 0.7220, 0.1672],\n",
              "          [0.1379, 0.0659, 0.8617, 0.0595, 0.3137]],\n",
              " \n",
              "         [[0.6043, 0.7312, 0.4267, 0.8738, 0.9646],\n",
              "          [0.0068, 0.0153, 0.8887, 0.7977, 0.2332],\n",
              "          [0.8260, 0.6861, 0.5967, 0.2620, 0.0664],\n",
              "          ...,\n",
              "          [0.1668, 0.0923, 0.0526, 0.2967, 0.0109],\n",
              "          [0.7060, 0.4663, 0.9765, 0.9070, 0.1576],\n",
              "          [0.1603, 0.2759, 0.8338, 0.9964, 0.3344]],\n",
              " \n",
              "         [[0.4676, 0.4486, 0.1081, 0.4991, 0.8858],\n",
              "          [0.6280, 0.1264, 0.8866, 0.4233, 0.0494],\n",
              "          [0.5535, 0.1184, 0.9994, 0.3390, 0.4197],\n",
              "          ...,\n",
              "          [0.9533, 0.3278, 0.2349, 0.0330, 0.3706],\n",
              "          [0.5838, 0.4431, 0.3634, 0.8980, 0.4765],\n",
              "          [0.1828, 0.7701, 0.9176, 0.8849, 0.0980]]]),\n",
              " torch.float32,\n",
              " torch.Size([255, 255, 5]))"
            ]
          },
          "metadata": {},
          "execution_count": 42
        }
      ]
    },
    {
      "cell_type": "code",
      "source": [
        "#You can make a random tensor of all zeros.\n",
        "zeros = torch.zeros(size=(5, 5, 5))\n",
        "zeros"
      ],
      "metadata": {
        "colab": {
          "base_uri": "https://localhost:8080/"
        },
        "id": "TGQFgelNhzko",
        "outputId": "1e5cb6be-5907-4b14-bc57-2c135cb1ab5b"
      },
      "execution_count": 44,
      "outputs": [
        {
          "output_type": "execute_result",
          "data": {
            "text/plain": [
              "tensor([[[0., 0., 0., 0., 0.],\n",
              "         [0., 0., 0., 0., 0.],\n",
              "         [0., 0., 0., 0., 0.],\n",
              "         [0., 0., 0., 0., 0.],\n",
              "         [0., 0., 0., 0., 0.]],\n",
              "\n",
              "        [[0., 0., 0., 0., 0.],\n",
              "         [0., 0., 0., 0., 0.],\n",
              "         [0., 0., 0., 0., 0.],\n",
              "         [0., 0., 0., 0., 0.],\n",
              "         [0., 0., 0., 0., 0.]],\n",
              "\n",
              "        [[0., 0., 0., 0., 0.],\n",
              "         [0., 0., 0., 0., 0.],\n",
              "         [0., 0., 0., 0., 0.],\n",
              "         [0., 0., 0., 0., 0.],\n",
              "         [0., 0., 0., 0., 0.]],\n",
              "\n",
              "        [[0., 0., 0., 0., 0.],\n",
              "         [0., 0., 0., 0., 0.],\n",
              "         [0., 0., 0., 0., 0.],\n",
              "         [0., 0., 0., 0., 0.],\n",
              "         [0., 0., 0., 0., 0.]],\n",
              "\n",
              "        [[0., 0., 0., 0., 0.],\n",
              "         [0., 0., 0., 0., 0.],\n",
              "         [0., 0., 0., 0., 0.],\n",
              "         [0., 0., 0., 0., 0.],\n",
              "         [0., 0., 0., 0., 0.]]])"
            ]
          },
          "metadata": {},
          "execution_count": 44
        }
      ]
    },
    {
      "cell_type": "code",
      "source": [
        "#You can make a tensor of all ones.\n",
        "ones = torch.ones(size=(5, 5, 5))\n",
        "ones"
      ],
      "metadata": {
        "colab": {
          "base_uri": "https://localhost:8080/"
        },
        "id": "gbcWxwt3iHk3",
        "outputId": "2aed423d-3bf3-49d3-be8b-f1d77abb8e0d"
      },
      "execution_count": 46,
      "outputs": [
        {
          "output_type": "execute_result",
          "data": {
            "text/plain": [
              "tensor([[[1., 1., 1., 1., 1.],\n",
              "         [1., 1., 1., 1., 1.],\n",
              "         [1., 1., 1., 1., 1.],\n",
              "         [1., 1., 1., 1., 1.],\n",
              "         [1., 1., 1., 1., 1.]],\n",
              "\n",
              "        [[1., 1., 1., 1., 1.],\n",
              "         [1., 1., 1., 1., 1.],\n",
              "         [1., 1., 1., 1., 1.],\n",
              "         [1., 1., 1., 1., 1.],\n",
              "         [1., 1., 1., 1., 1.]],\n",
              "\n",
              "        [[1., 1., 1., 1., 1.],\n",
              "         [1., 1., 1., 1., 1.],\n",
              "         [1., 1., 1., 1., 1.],\n",
              "         [1., 1., 1., 1., 1.],\n",
              "         [1., 1., 1., 1., 1.]],\n",
              "\n",
              "        [[1., 1., 1., 1., 1.],\n",
              "         [1., 1., 1., 1., 1.],\n",
              "         [1., 1., 1., 1., 1.],\n",
              "         [1., 1., 1., 1., 1.],\n",
              "         [1., 1., 1., 1., 1.]],\n",
              "\n",
              "        [[1., 1., 1., 1., 1.],\n",
              "         [1., 1., 1., 1., 1.],\n",
              "         [1., 1., 1., 1., 1.],\n",
              "         [1., 1., 1., 1., 1.],\n",
              "         [1., 1., 1., 1., 1.]]])"
            ]
          },
          "metadata": {},
          "execution_count": 46
        }
      ]
    },
    {
      "cell_type": "markdown",
      "source": [
        "##Sometimes you might need or want a range of the numbers such as 1 to 10, 10 to 100."
      ],
      "metadata": {
        "id": "gFq0NQR5iX9Q"
      }
    },
    {
      "cell_type": "code",
      "source": [
        "#We are gonna use torch.arange(start, end, step)\n",
        "#start = start of range (e.g. 0)\n",
        "#end = end of range (e.g. 10)\n",
        "#step = how many steps in between each value (e.g. 1)\n",
        "range = torch.arange(0, 10, 1)\n",
        "range"
      ],
      "metadata": {
        "colab": {
          "base_uri": "https://localhost:8080/"
        },
        "id": "wX1eQ3roikWg",
        "outputId": "27f9b46b-469f-4de0-8ab8-f63178d0867e"
      },
      "execution_count": 50,
      "outputs": [
        {
          "output_type": "execute_result",
          "data": {
            "text/plain": [
              "tensor([0, 1, 2, 3, 4, 5, 6, 7, 8, 9])"
            ]
          },
          "metadata": {},
          "execution_count": 50
        }
      ]
    },
    {
      "cell_type": "code",
      "source": [
        "#Sometimes you might want a tensor with the same dtype and the same shape but with a different numbers.\n",
        "same_zeros = torch.zeros_like(input=range)\n",
        "same_zeros"
      ],
      "metadata": {
        "colab": {
          "base_uri": "https://localhost:8080/"
        },
        "id": "DIjIwETfjVYp",
        "outputId": "47983e70-12ff-4739-cd23-9896cc6743c9"
      },
      "execution_count": 55,
      "outputs": [
        {
          "output_type": "execute_result",
          "data": {
            "text/plain": [
              "tensor([0, 0, 0, 0, 0, 0, 0, 0, 0, 0])"
            ]
          },
          "metadata": {},
          "execution_count": 55
        }
      ]
    }
  ]
}